{
 "cells": [
  {
   "cell_type": "markdown",
   "id": "a8305bc2-9efd-43a2-9f67-44f862342c07",
   "metadata": {},
   "source": [
    "### Construindo um Agente 'React' simples do zero\n",
    "Building a Simple React Agent from Scratch"
   ]
  },
  {
   "cell_type": "code",
   "execution_count": 1,
   "id": "47c8fb76-414b-491d-8852-558e5c0a716f",
   "metadata": {},
   "outputs": [],
   "source": [
    "# https://til.simonwillison.net/llms/python-react-pattern"
   ]
  },
  {
   "cell_type": "code",
   "execution_count": 1,
   "id": "dd02506e-1fa2-48e3-9f29-c496f88346b9",
   "metadata": {},
   "outputs": [
    {
     "data": {
      "text/plain": [
       "True"
      ]
     },
     "execution_count": 1,
     "metadata": {},
     "output_type": "execute_result"
    }
   ],
   "source": [
    "# carregar o arquivo .env\n",
    "from dotenv import load_dotenv\n",
    "load_dotenv(dotenv_path=\"../.env\")"
   ]
  },
  {
   "cell_type": "code",
   "execution_count": 2,
   "id": "81278257-1407-4955-988b-35aa237ed2dc",
   "metadata": {},
   "outputs": [],
   "source": [
    "import openai\n",
    "import re\n",
    "import httpx # alternativa a biblioteca requests\n",
    "import os"
   ]
  },
  {
   "cell_type": "code",
   "execution_count": 3,
   "id": "50a2de5c-4f06-4bd5-8ae8-5b88e548059e",
   "metadata": {},
   "outputs": [],
   "source": [
    "from openai import OpenAI\n",
    "client = OpenAI()"
   ]
  },
  {
   "cell_type": "code",
   "execution_count": 7,
   "id": "17b6c3ab-d56a-47c1-8144-b54fb744c61a",
   "metadata": {},
   "outputs": [],
   "source": [
    "# Teste\n",
    "\n",
    "model = \"gpt-4o-mini\"\n",
    "prompt = \"Hello, chatgpt!\"\n",
    "\n",
    "chat_completion = client.chat.completions.create(\n",
    "    model=model,\n",
    "    messages=[{'role':'user', 'content': prompt}]\n",
    ")"
   ]
  },
  {
   "cell_type": "code",
   "execution_count": 8,
   "id": "27b3405a-f44b-4746-8d52-bb6d8fa15008",
   "metadata": {},
   "outputs": [
    {
     "data": {
      "text/plain": [
       "'Hello! How can I assist you today?'"
      ]
     },
     "execution_count": 8,
     "metadata": {},
     "output_type": "execute_result"
    }
   ],
   "source": [
    "chat_completion.choices[0].message.content"
   ]
  },
  {
   "cell_type": "code",
   "execution_count": 9,
   "id": "2f08de9e-f504-4f2a-9d9e-5d6632a088dd",
   "metadata": {},
   "outputs": [
    {
     "data": {
      "text/plain": [
       "ChatCompletion(id='chatcmpl-AIFHqDBDVtXJ5ayrvWnhnTQRfWNEX', choices=[Choice(finish_reason='stop', index=0, logprobs=None, message=ChatCompletionMessage(content='Hello! How can I assist you today?', refusal=None, role='assistant', function_call=None, tool_calls=None))], created=1728912030, model='gpt-4o-mini-2024-07-18', object='chat.completion', service_tier=None, system_fingerprint='fp_8552ec53e1', usage=CompletionUsage(completion_tokens=9, prompt_tokens=13, total_tokens=22, completion_tokens_details=CompletionTokensDetails(reasoning_tokens=0), prompt_tokens_details={'cached_tokens': 0}))"
      ]
     },
     "execution_count": 9,
     "metadata": {},
     "output_type": "execute_result"
    }
   ],
   "source": [
    "chat_completion"
   ]
  },
  {
   "cell_type": "markdown",
   "id": "d37659d5-aea5-49ed-823f-add67d779b9d",
   "metadata": {},
   "source": [
    "### Criando a classe do Agente"
   ]
  },
  {
   "cell_type": "code",
   "execution_count": 4,
   "id": "7ab542e1-cc4d-46de-bc1f-9c59f34120e3",
   "metadata": {},
   "outputs": [],
   "source": [
    "class Agent:\n",
    "    def __init__(self, system=\"\"):\n",
    "        self.system = system\n",
    "        self.messages = []\n",
    "\n",
    "        if self.system:\n",
    "            self.messages.append({\"role\": \"system\", \"content\": system})\n",
    "\n",
    "    def __call__(self, prompt):\n",
    "        self.messages.append({\"role\": \"user\", \"content\": prompt})\n",
    "        result = self.execute()\n",
    "        self.messages.append({\"role\": \"assistant\", \"content\": result})\n",
    "        return result\n",
    "\n",
    "    def execute(self, model=\"gpt-4o-mini\", temperature=0):\n",
    "        completion = client.chat.completions.create(\n",
    "            model=model,\n",
    "            temperature=temperature,\n",
    "            messages=self.messages\n",
    "        )\n",
    "        return completion.choices[0].message.content"
   ]
  },
  {
   "cell_type": "markdown",
   "id": "0c33cddb-258e-4ab9-999b-65e7d5fa0682",
   "metadata": {},
   "source": [
    "# Criando o prompt 'ReAct'"
   ]
  },
  {
   "cell_type": "code",
   "execution_count": null,
   "id": "b08d5f20-9ed7-4493-b546-184ea08c1ef7",
   "metadata": {},
   "outputs": [],
   "source": [
    "# Exemplo de prompt: https://smith.langchain.com/hub/hwchase17/react"
   ]
  },
  {
   "cell_type": "code",
   "execution_count": 7,
   "id": "2a0b092c-cce2-48f0-8acc-60b97c681143",
   "metadata": {},
   "outputs": [],
   "source": [
    "prompt = '''\n",
    "You run in a loop of Thought, Action, PAUSE, Observation.\n",
    "At the end of the loop you output an Answer\n",
    "Use Thought to describe your thoughts about the question you have been asked.\n",
    "Use Action to run one of the actions available to you - then return PAUSE.\n",
    "Observation will be the result of running those actions.\n",
    "\n",
    "Your available actions are:\n",
    "\n",
    "calculate:\n",
    "e.g. calculate: 4 * 7 / 3\n",
    "Runs a calculation and returns the number - uses Python so be sure to use floating point syntax if necessary\n",
    "\n",
    "get_cost:\n",
    "e.g. get_cost: book\n",
    "returns the cost of a book\n",
    "\n",
    "wikipedia:\n",
    "e.g. wikipedia: LangChain\n",
    "Returns a summary from searching Wikipedia\n",
    "\n",
    "Always look things up on Wikipedia if you have the opportunity to do so.\n",
    "\n",
    "Example session #1:\n",
    "\n",
    "Question: How much does a pen cost?\n",
    "Thought: I should look the pen cost using get_cost\n",
    "Action: get_cost: pen\n",
    "PAUSE\n",
    "\n",
    "You will be called again with this:\n",
    "\n",
    "Observation: A pen costs $5\n",
    "\n",
    "You then output:\n",
    "\n",
    "Answer: A pen costs $5\n",
    "\n",
    "\n",
    "Example session #2\n",
    "\n",
    "Question: What is the capital of France?\n",
    "Thought: I should look up France on Wikipedia\n",
    "Action: wikipedia: France\n",
    "PAUSE\n",
    "\n",
    "You will be called again with this:\n",
    "\n",
    "Observation: France is a country. The capital is Paris.\n",
    "\n",
    "You then output:\n",
    "\n",
    "Answer: The capital of France is Paris\n",
    "'''.strip()"
   ]
  },
  {
   "cell_type": "markdown",
   "id": "58ed56d0-ee48-4ea5-8c64-0cd3d369da6b",
   "metadata": {},
   "source": [
    "### Criando as 'Tools' (Ferramentas)"
   ]
  },
  {
   "cell_type": "code",
   "execution_count": 13,
   "id": "8ac222ec-c233-4586-a03b-7eac049a682c",
   "metadata": {},
   "outputs": [],
   "source": [
    "# 1. the calculate() function takes in a string, evaluates that string, and returns the result\n",
    "def calculate(what):\n",
    "    return eval(what)\n",
    "\n",
    "# 2. the get_cost() function returns the cost for a pen, a book, and a stapler\n",
    "def get_cost(thing):\n",
    "    if thing in 'pen': \n",
    "        return('A pen costs $5')\n",
    "    elif thing in 'book':\n",
    "        return('A book costs $20')\n",
    "    elif thing in 'stapler':\n",
    "        return('A stapler costs $10')\n",
    "    else:\n",
    "        return('A random thing for writing costs $12.')\n",
    "\n",
    "# 3. the wikipedia() function uses the Wikipedia API to search for a specific query on Wikipedia\n",
    "def wikipedia(q):\n",
    "    response = httpx.get('https://en.wikipedia.org/w/api.php', params={\n",
    "        'action': 'query',\n",
    "        'list': 'search',\n",
    "        'srsearch': q,\n",
    "        'format': 'json'\n",
    "    })\n",
    "    results = response.json().get('query').get('search', [])\n",
    "    \n",
    "    if not results:\n",
    "        return None\n",
    "    return results[0]['snippet']"
   ]
  },
  {
   "cell_type": "code",
   "execution_count": null,
   "id": "cd7a3528",
   "metadata": {},
   "outputs": [],
   "source": []
  },
  {
   "cell_type": "code",
   "execution_count": 17,
   "id": "b116bdfa-193a-48f8-b959-cb32c8a5ff44",
   "metadata": {},
   "outputs": [],
   "source": [
    "# dictionary that maps the function names to the functions themselves\n",
    "known_actions = {\n",
    "    'calculate': calculate,\n",
    "    'get_cost': get_cost,\n",
    "    'wikipedia': wikipedia\n",
    "}"
   ]
  },
  {
   "cell_type": "markdown",
   "id": "91f75b29-e44e-4a22-bd8b-cd7d9cbac2d0",
   "metadata": {},
   "source": [
    "### Testando o Agente"
   ]
  },
  {
   "cell_type": "code",
   "execution_count": 18,
   "id": "223dc112-66f7-44bf-aecc-32682be16cf0",
   "metadata": {},
   "outputs": [],
   "source": [
    "# Exemplo 1\n",
    "my_agent = Agent(prompt)"
   ]
  },
  {
   "cell_type": "code",
   "execution_count": 19,
   "id": "a76d5f08-49c7-4b68-9b05-5e919af0a94e",
   "metadata": {},
   "outputs": [
    {
     "name": "stdout",
     "output_type": "stream",
     "text": [
      "Thought: I should look up the cost of a pen using the get_cost action.  \n",
      "Action: get_cost: pen  \n",
      "PAUSE\n"
     ]
    }
   ],
   "source": [
    "# calling the agent with this initial question\n",
    "result = my_agent('How much does a pen cost?')\n",
    "print(result)"
   ]
  },
  {
   "cell_type": "code",
   "execution_count": 20,
   "id": "d4fa06a7-27d2-49df-bb3b-285a9e83a43b",
   "metadata": {},
   "outputs": [],
   "source": [
    "# creating the next prompt that will be used as an observation and passed to the language model\n",
    "next_prompt = f\"Observation: {get_cost('pen')}\""
   ]
  },
  {
   "cell_type": "code",
   "execution_count": 21,
   "id": "8da22297-4bf5-4454-aac1-7cf5f5a473fb",
   "metadata": {},
   "outputs": [
    {
     "data": {
      "text/plain": [
       "'Answer: A pen costs $5.'"
      ]
     },
     "execution_count": 21,
     "metadata": {},
     "output_type": "execute_result"
    }
   ],
   "source": [
    "# calling the agent with that next prompt\n",
    "my_agent(next_prompt)"
   ]
  },
  {
   "cell_type": "code",
   "execution_count": 25,
   "id": "50b8fe80-ad0d-4bf2-8933-a6a930d4ca87",
   "metadata": {},
   "outputs": [
    {
     "data": {
      "text/plain": [
       "[{'role': 'system',\n",
       "  'content': 'You run in a loop of Thought, Action, PAUSE, Observation.\\nAt the end of the loop you output an Answer\\nUse Thought to describe your thoughts about the question you have been asked.\\nUse Action to run one of the actions available to you - then return PAUSE.\\nObservation will be the result of running those actions.\\n\\nYour available actions are:\\n\\ncalculate:\\ne.g. calculate: 4 * 7 / 3\\nRuns a calculation and returns the number - uses Python so be sure to use floating point syntax if necessary\\n\\nget_cost:\\ne.g. get_cost: book\\nreturns the cost of a book\\n\\nwikipedia:\\ne.g. wikipedia: LangChain\\nReturns a summary from searching Wikipedia\\n\\nAlways look things up on Wikipedia if you have the opportunity to do so.\\n\\nExample session #1:\\n\\nQuestion: How much does a pen cost?\\nThought: I should look the pen cost using get_cost\\nAction: get_cost: pen\\nPAUSE\\n\\nYou will be called again with this:\\n\\nObservation: A pen costs $5\\n\\nYou then output:\\n\\nAnswer: A pen costs $5\\n\\n\\nExample session #2\\n\\nQuestion: What is the capital of France?\\nThought: I should look up France on Wikipedia\\nAction: wikipedia: France\\nPAUSE\\n\\nYou will be called again with this:\\n\\nObservation: France is a country. The capital is Paris.\\n\\nYou then output:\\n\\nAnswer: The capital of France is Paris'},\n",
       " {'role': 'user', 'content': 'How much does a pen cost?'},\n",
       " {'role': 'assistant',\n",
       "  'content': 'Thought: I should look up the cost of a pen using the get_cost action.  \\nAction: get_cost: pen  \\nPAUSE'},\n",
       " {'role': 'user', 'content': 'Observation: A pen costs $5'},\n",
       " {'role': 'assistant', 'content': 'Answer: A pen costs $5.'}]"
      ]
     },
     "execution_count": 25,
     "metadata": {},
     "output_type": "execute_result"
    }
   ],
   "source": [
    "my_agent.messages"
   ]
  },
  {
   "cell_type": "code",
   "execution_count": 26,
   "id": "b04f09ab-26f4-42f6-8d29-281fb6d86831",
   "metadata": {},
   "outputs": [],
   "source": [
    "# Exemplo 2\n",
    "abot = Agent(prompt)"
   ]
  },
  {
   "cell_type": "code",
   "execution_count": 27,
   "id": "a5f4994d-bfaf-4204-afef-168b1f2ed3a7",
   "metadata": {},
   "outputs": [
    {
     "data": {
      "text/plain": [
       "\"Thought: I need to find the cost of both a pen and a book to calculate the total cost. I'll start by getting the cost of a pen and then the cost of a book. \\nAction: get_cost: pen\\nPAUSE\""
      ]
     },
     "execution_count": 27,
     "metadata": {},
     "output_type": "execute_result"
    }
   ],
   "source": [
    "question = '''I want to buy a pen and a book. \n",
    "How much do they cost in total?'''\n",
    "\n",
    "abot(question)"
   ]
  },
  {
   "cell_type": "code",
   "execution_count": 28,
   "id": "fe7afaac-b579-4768-857e-dcd17dbfd9f0",
   "metadata": {},
   "outputs": [
    {
     "name": "stdout",
     "output_type": "stream",
     "text": [
      "Observation: A pen costs $5\n"
     ]
    }
   ],
   "source": [
    "# executing the action and creating the next prompt. \n",
    "next_prompt = f'Observation: {get_cost(\"pen\")}'\n",
    "print(next_prompt)"
   ]
  },
  {
   "cell_type": "code",
   "execution_count": 29,
   "id": "b0ec1952-b5ea-4a8e-8e55-7b26cd0df865",
   "metadata": {},
   "outputs": [
    {
     "data": {
      "text/plain": [
       "'Thought: Now that I know the cost of the pen, I need to find out the cost of the book to calculate the total. \\nAction: get_cost: book\\nPAUSE'"
      ]
     },
     "execution_count": 29,
     "metadata": {},
     "output_type": "execute_result"
    }
   ],
   "source": [
    "abot(next_prompt)"
   ]
  },
  {
   "cell_type": "code",
   "execution_count": 30,
   "id": "519b4cbf-d523-486e-9142-40e622803454",
   "metadata": {},
   "outputs": [
    {
     "name": "stdout",
     "output_type": "stream",
     "text": [
      "Observation: A book costs $20\n"
     ]
    }
   ],
   "source": [
    "next_prompt = f'Observation: {get_cost(\"book\")}'\n",
    "print(next_prompt)"
   ]
  },
  {
   "cell_type": "code",
   "execution_count": 31,
   "id": "ed3e7d78-c6a8-4506-b801-6d01597ee0b4",
   "metadata": {},
   "outputs": [
    {
     "data": {
      "text/plain": [
       "'Thought: I have the costs for both the pen and the book. The pen costs $5 and the book costs $20. Now, I can calculate the total cost. \\nAction: calculate: 5 + 20\\nPAUSE'"
      ]
     },
     "execution_count": 31,
     "metadata": {},
     "output_type": "execute_result"
    }
   ],
   "source": [
    "abot(next_prompt)"
   ]
  },
  {
   "cell_type": "code",
   "execution_count": 32,
   "id": "ec32795c-da1c-4595-aa94-b07739f6aa95",
   "metadata": {},
   "outputs": [
    {
     "data": {
      "text/plain": [
       "'Answer: The total cost of a pen and a book is $25.'"
      ]
     },
     "execution_count": 32,
     "metadata": {},
     "output_type": "execute_result"
    }
   ],
   "source": [
    "abot(next_prompt)"
   ]
  },
  {
   "cell_type": "code",
   "execution_count": 33,
   "id": "2d49234c-267e-4ba6-84ef-1a0dc30041f7",
   "metadata": {},
   "outputs": [],
   "source": [
    "# Exemplo 3\n",
    "abot = Agent(prompt)"
   ]
  },
  {
   "cell_type": "code",
   "execution_count": 34,
   "id": "96f0b8d8-f4d6-4295-9fe5-eefec015210f",
   "metadata": {},
   "outputs": [
    {
     "data": {
      "text/plain": [
       "'Thought: I should look up information about the 2024 United Kingdom elections on Wikipedia to get the latest details.  \\nAction: wikipedia: 2024 United Kingdom elections  \\nPAUSE'"
      ]
     },
     "execution_count": 34,
     "metadata": {},
     "output_type": "execute_result"
    }
   ],
   "source": [
    "query = '2024 United Kingdom elections'\n",
    "abot(query)"
   ]
  },
  {
   "cell_type": "code",
   "execution_count": 35,
   "id": "6de51ed0-1cb3-4fee-842f-e59b92e79f10",
   "metadata": {},
   "outputs": [
    {
     "name": "stdout",
     "output_type": "stream",
     "text": [
      "Observation: The <span class=\"searchmatch\">2024</span> <span class=\"searchmatch\">United</span> <span class=\"searchmatch\">Kingdom</span> general <span class=\"searchmatch\">election</span> was held on Thursday, 4 July <span class=\"searchmatch\">2024</span> to elect 650 members of Parliament to the House of Commons, the lower house\n"
     ]
    }
   ],
   "source": [
    "# calling the wikipedia() function and creating the next prompt\n",
    "next_prompt = f'Observation: {wikipedia(query)}'\n",
    "print(next_prompt)"
   ]
  },
  {
   "cell_type": "code",
   "execution_count": 36,
   "id": "545e1f24-3a33-4076-a591-28841325a3a3",
   "metadata": {},
   "outputs": [
    {
     "data": {
      "text/plain": [
       "'Answer: The 2024 United Kingdom general election was held on Thursday, 4 July 2024, to elect 650 members of Parliament to the House of Commons.'"
      ]
     },
     "execution_count": 36,
     "metadata": {},
     "output_type": "execute_result"
    }
   ],
   "source": [
    "# calling the agent with the new prompt, which in turn is giving the final answer\n",
    "abot(next_prompt)"
   ]
  },
  {
   "cell_type": "code",
   "execution_count": 37,
   "id": "1cf048c1-28c6-4f05-b0ec-668d22720114",
   "metadata": {},
   "outputs": [
    {
     "data": {
      "text/plain": [
       "[{'role': 'system',\n",
       "  'content': 'You run in a loop of Thought, Action, PAUSE, Observation.\\nAt the end of the loop you output an Answer\\nUse Thought to describe your thoughts about the question you have been asked.\\nUse Action to run one of the actions available to you - then return PAUSE.\\nObservation will be the result of running those actions.\\n\\nYour available actions are:\\n\\ncalculate:\\ne.g. calculate: 4 * 7 / 3\\nRuns a calculation and returns the number - uses Python so be sure to use floating point syntax if necessary\\n\\nget_cost:\\ne.g. get_cost: book\\nreturns the cost of a book\\n\\nwikipedia:\\ne.g. wikipedia: LangChain\\nReturns a summary from searching Wikipedia\\n\\nAlways look things up on Wikipedia if you have the opportunity to do so.\\n\\nExample session #1:\\n\\nQuestion: How much does a pen cost?\\nThought: I should look the pen cost using get_cost\\nAction: get_cost: pen\\nPAUSE\\n\\nYou will be called again with this:\\n\\nObservation: A pen costs $5\\n\\nYou then output:\\n\\nAnswer: A pen costs $5\\n\\n\\nExample session #2\\n\\nQuestion: What is the capital of France?\\nThought: I should look up France on Wikipedia\\nAction: wikipedia: France\\nPAUSE\\n\\nYou will be called again with this:\\n\\nObservation: France is a country. The capital is Paris.\\n\\nYou then output:\\n\\nAnswer: The capital of France is Paris'},\n",
       " {'role': 'user', 'content': '2024 United Kingdom elections'},\n",
       " {'role': 'assistant',\n",
       "  'content': 'Thought: I should look up information about the 2024 United Kingdom elections on Wikipedia to get the latest details.  \\nAction: wikipedia: 2024 United Kingdom elections  \\nPAUSE'},\n",
       " {'role': 'user',\n",
       "  'content': 'Observation: The <span class=\"searchmatch\">2024</span> <span class=\"searchmatch\">United</span> <span class=\"searchmatch\">Kingdom</span> general <span class=\"searchmatch\">election</span> was held on Thursday, 4 July <span class=\"searchmatch\">2024</span> to elect 650 members of Parliament to the House of Commons, the lower house'},\n",
       " {'role': 'assistant',\n",
       "  'content': 'Answer: The 2024 United Kingdom general election was held on Thursday, 4 July 2024, to elect 650 members of Parliament to the House of Commons.'}]"
      ]
     },
     "execution_count": 37,
     "metadata": {},
     "output_type": "execute_result"
    }
   ],
   "source": [
    "abot.messages"
   ]
  },
  {
   "cell_type": "markdown",
   "id": "3e578c67-42d6-4d9f-9cb8-b2dceffcf5a7",
   "metadata": {},
   "source": [
    "### Automatizando o Agente"
   ]
  },
  {
   "cell_type": "code",
   "execution_count": 38,
   "id": "808c48a0-3070-49c9-af2f-395d26992476",
   "metadata": {},
   "outputs": [],
   "source": [
    "# defining a regex for finding the action string\n",
    "action_re = re.compile(r'^Action: (\\w+): (.*)$')  # python regular expression to select Action:"
   ]
  },
  {
   "cell_type": "code",
   "execution_count": 39,
   "id": "36c0e6e2-ec80-4f0c-8a92-60128fa3eaeb",
   "metadata": {},
   "outputs": [],
   "source": [
    "def query(question, max_turns=5):\n",
    "    i = 0\n",
    "    bot = Agent(prompt)\n",
    "    next_prompt = question\n",
    "    while i < max_turns:\n",
    "        i += 1\n",
    "        result = bot(next_prompt)\n",
    "        print(result)\n",
    "\n",
    "         # using the regex to parse the response from the agent.\n",
    "        actions = [ # This is a list comprehension\n",
    "            action_re.match(a) for a in result.split('\\n') if action_re.match(a)\n",
    "        ]\n",
    "\n",
    "        if actions:\n",
    "            action, action_input = actions[0].groups() \n",
    "\n",
    "            if action not in known_actions:\n",
    "                raise Exception(f'Unknown action: {action}: {action_input}')\n",
    "\n",
    "            print(f' -- running {action} {action_input}')\n",
    "            observation = known_actions[action](action_input) \n",
    "           \n",
    "            print(f'Observation: {observation}')\n",
    "            next_prompt = f'Observation: {observation}'\n",
    "        else:\n",
    "            return"
   ]
  },
  {
   "cell_type": "code",
   "execution_count": 40,
   "id": "484fc260-8051-49c6-8795-b5e2e52df8ce",
   "metadata": {},
   "outputs": [
    {
     "name": "stdout",
     "output_type": "stream",
     "text": [
      "Thought: I need to find the cost of a book and a pen to calculate the total cost for 2 books and 3 pens. I will first look up the cost of a book and then the cost of a pen. \n",
      "\n",
      "Action: get_cost: book\n",
      "PAUSE\n",
      " -- running get_cost book\n",
      "Observation: A book costs $20\n",
      "Thought: Now that I know the cost of a book is $20, I need to find the cost of a pen to complete the calculation for the total cost of 2 books and 3 pens.\n",
      "\n",
      "Action: get_cost: pen\n",
      "PAUSE\n",
      " -- running get_cost pen\n",
      "Observation: A pen costs $5\n",
      "Thought: I now have the costs: a book costs $20 and a pen costs $5. I can calculate the total cost for 2 books and 3 pens using these prices.\n",
      "\n",
      "Action: calculate: 2 * 20 + 3 * 5\n",
      "PAUSE\n",
      " -- running calculate 2 * 20 + 3 * 5\n",
      "Observation: 55\n",
      "Answer: You have to pay $55 for 2 books and 3 pens.\n"
     ]
    }
   ],
   "source": [
    "question = '''I want to buy 2 books and 3 pens. How much do I have to pay?'''\n",
    "query(question)"
   ]
  },
  {
   "cell_type": "code",
   "execution_count": 41,
   "id": "3042ee15-2073-4bfc-a116-18364535dd47",
   "metadata": {},
   "outputs": [
    {
     "name": "stdout",
     "output_type": "stream",
     "text": [
      "Thought: I should look up UEFA EURO 2024 on Wikipedia to gather information about the event.  \n",
      "Action: wikipedia: UEFA EURO 2024  \n",
      "PAUSE\n",
      " -- running wikipedia UEFA EURO 2024  \n",
      "Observation: <span class=\"searchmatch\">2024</span> <span class=\"searchmatch\">UEFA</span> European Football Championship, commonly referred to as <span class=\"searchmatch\">UEFA</span> <span class=\"searchmatch\">Euro</span> <span class=\"searchmatch\">2024</span> (stylised as <span class=\"searchmatch\">UEFA</span> <span class=\"searchmatch\">EURO</span> <span class=\"searchmatch\">2024</span>) or simply <span class=\"searchmatch\">Euro</span> <span class=\"searchmatch\">2024</span>, was the 17th <span class=\"searchmatch\">UEFA</span> European\n",
      "Answer: UEFA EURO 2024 is the 17th UEFA European Football Championship.\n"
     ]
    }
   ],
   "source": [
    "question = '''UEFA EURO 2024'''\n",
    "query(question)"
   ]
  },
  {
   "cell_type": "code",
   "execution_count": null,
   "id": "b715f764-6320-41ae-82f9-09db1174c9f6",
   "metadata": {},
   "outputs": [],
   "source": []
  }
 ],
 "metadata": {
  "kernelspec": {
   "display_name": ".venv",
   "language": "python",
   "name": "python3"
  },
  "language_info": {
   "codemirror_mode": {
    "name": "ipython",
    "version": 3
   },
   "file_extension": ".py",
   "mimetype": "text/x-python",
   "name": "python",
   "nbconvert_exporter": "python",
   "pygments_lexer": "ipython3",
   "version": "3.11.6"
  }
 },
 "nbformat": 4,
 "nbformat_minor": 5
}
